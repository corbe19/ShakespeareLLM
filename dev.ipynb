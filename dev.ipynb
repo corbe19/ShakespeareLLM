{
 "cells": [
  {
   "cell_type": "code",
   "execution_count": 7,
   "id": "26bb65cb",
   "metadata": {},
   "outputs": [],
   "source": [
    "import requests\n",
    "\n",
    "url = \"https://raw.githubusercontent.com/karpathy/char-rnn/master/data/tinyshakespeare/input.txt\"\n",
    "response = requests.get(url)\n",
    "\n",
    "with open(\"tinyshakespeare.txt\", \"w\", encoding=\"utf-8\") as file:\n",
    "    file.write(response.text)"
   ]
  },
  {
   "cell_type": "code",
   "execution_count": 9,
   "id": "c8ba20f4",
   "metadata": {},
   "outputs": [
    {
     "name": "stdout",
     "output_type": "stream",
     "text": [
      "Characters in data: 1115394\n"
     ]
    }
   ],
   "source": [
    "print(\"Characters in data:\", len(response.text))"
   ]
  },
  {
   "cell_type": "code",
   "execution_count": 10,
   "id": "d005782a",
   "metadata": {},
   "outputs": [
    {
     "name": "stdout",
     "output_type": "stream",
     "text": [
      "\n",
      " !$&',-.3:;?ABCDEFGHIJKLMNOPQRSTUVWXYZabcdefghijklmnopqrstuvwxyz\n",
      "65\n"
     ]
    }
   ],
   "source": [
    "# Find uniquw characters\n",
    "chars = sorted(list(set(response.text)))\n",
    "vocab_size = len(chars)\n",
    "print(''.join(chars))\n",
    "print(vocab_size)"
   ]
  },
  {
   "cell_type": "code",
   "execution_count": 11,
   "id": "e28736ed",
   "metadata": {},
   "outputs": [
    {
     "name": "stdout",
     "output_type": "stream",
     "text": [
      "[24, 59, 41, 39, 57]\n",
      "Lucas\n"
     ]
    }
   ],
   "source": [
    "# Map charatcters to integers\n",
    "stoi = { ch:i for i,ch in enumerate(chars) }\n",
    "itos = { i:ch for i,ch in enumerate(chars) }\n",
    "encode = lambda s: [stoi[c] for c in s] #Encoder\n",
    "decode = lambda l: ''.join([itos[i] for i in l]) #Decoder\n",
    "\n",
    "print(encode(\"Lucas\"))\n",
    "print(decode(encode(\"Lucas\")))"
   ]
  },
  {
   "cell_type": "code",
   "execution_count": 14,
   "id": "713b7267",
   "metadata": {},
   "outputs": [
    {
     "name": "stdout",
     "output_type": "stream",
     "text": [
      "torch.Size([1115394]) torch.int64\n",
      "tensor([18, 47, 56, 57, 58,  1, 15, 47, 58, 47, 64, 43, 52, 10,  0, 14, 43, 44,\n",
      "        53, 56, 43,  1, 61, 43,  1, 54, 56, 53, 41, 43, 43, 42,  1, 39, 52, 63,\n",
      "         1, 44, 59, 56, 58, 46, 43, 56,  6,  1, 46, 43, 39, 56,  1, 51, 43,  1,\n",
      "        57, 54, 43, 39, 49,  8,  0,  0, 13, 50, 50, 10,  0, 31, 54, 43, 39, 49,\n",
      "         6,  1, 57, 54, 43, 39, 49,  8,  0,  0, 18, 47, 56, 57, 58,  1, 15, 47,\n",
      "        58, 47, 64, 43, 52, 10,  0, 37, 53, 59,  1, 39, 56, 43,  1, 39, 50, 50,\n",
      "         1, 56, 43, 57, 53, 50, 60, 43, 42,  1, 56, 39, 58, 46, 43, 56,  1, 58,\n",
      "        53,  1, 42, 47, 43,  1, 58, 46, 39, 52,  1, 58, 53,  1, 44, 39, 51, 47,\n",
      "        57, 46, 12,  0,  0, 13, 50, 50, 10,  0, 30, 43, 57, 53, 50, 60, 43, 42,\n",
      "         8,  1, 56, 43, 57, 53, 50, 60, 43, 42,  8,  0,  0, 18, 47, 56, 57, 58,\n",
      "         1, 15, 47, 58, 47, 64, 43, 52, 10,  0, 18, 47, 56, 57, 58,  6,  1, 63,\n",
      "        53, 59,  1, 49, 52, 53, 61,  1, 15, 39, 47, 59, 57,  1, 25, 39, 56, 41,\n",
      "        47, 59, 57,  1, 47, 57,  1, 41, 46, 47, 43, 44,  1, 43, 52, 43, 51, 63,\n",
      "         1, 58, 53,  1, 58, 46, 43,  1, 54, 43, 53, 54, 50, 43,  8,  0,  0, 13,\n",
      "        50, 50, 10,  0, 35, 43,  1, 49, 52, 53, 61,  5, 58,  6,  1, 61, 43,  1,\n",
      "        49, 52, 53, 61,  5, 58,  8,  0,  0, 18, 47, 56, 57, 58,  1, 15, 47, 58,\n",
      "        47, 64, 43, 52, 10,  0, 24, 43, 58,  1, 59, 57,  1, 49, 47, 50, 50,  1,\n",
      "        46, 47, 51,  6,  1, 39, 52, 42,  1, 61, 43,  5, 50, 50,  1, 46, 39, 60,\n",
      "        43,  1, 41, 53, 56, 52,  1, 39, 58,  1, 53, 59, 56,  1, 53, 61, 52,  1,\n",
      "        54, 56, 47, 41, 43,  8,  0, 21, 57,  5, 58,  1, 39,  1, 60, 43, 56, 42,\n",
      "        47, 41, 58, 12,  0,  0, 13, 50, 50, 10,  0, 26, 53,  1, 51, 53, 56, 43,\n",
      "         1, 58, 39, 50, 49, 47, 52, 45,  1, 53, 52,  5, 58, 11,  1, 50, 43, 58,\n",
      "         1, 47, 58,  1, 40, 43,  1, 42, 53, 52, 43, 10,  1, 39, 61, 39, 63,  6,\n",
      "         1, 39, 61, 39, 63,  2,  0,  0, 31, 43, 41, 53, 52, 42,  1, 15, 47, 58,\n",
      "        47, 64, 43, 52, 10,  0, 27, 52, 43,  1, 61, 53, 56, 42,  6,  1, 45, 53,\n",
      "        53, 42,  1, 41, 47, 58, 47, 64, 43, 52, 57,  8,  0,  0, 18, 47, 56, 57,\n",
      "        58,  1, 15, 47, 58, 47, 64, 43, 52, 10,  0, 35, 43,  1, 39, 56, 43,  1,\n",
      "        39, 41, 41, 53, 59, 52, 58, 43, 42,  1, 54, 53, 53, 56,  1, 41, 47, 58,\n",
      "        47, 64, 43, 52, 57,  6,  1, 58, 46, 43,  1, 54, 39, 58, 56, 47, 41, 47,\n",
      "        39, 52, 57,  1, 45, 53, 53, 42,  8,  0, 35, 46, 39, 58,  1, 39, 59, 58,\n",
      "        46, 53, 56, 47, 58, 63,  1, 57, 59, 56, 44, 43, 47, 58, 57,  1, 53, 52,\n",
      "         1, 61, 53, 59, 50, 42,  1, 56, 43, 50, 47, 43, 60, 43,  1, 59, 57, 10,\n",
      "         1, 47, 44,  1, 58, 46, 43, 63,  0, 61, 53, 59, 50, 42,  1, 63, 47, 43,\n",
      "        50, 42,  1, 59, 57,  1, 40, 59, 58,  1, 58, 46, 43,  1, 57, 59, 54, 43,\n",
      "        56, 44, 50, 59, 47, 58, 63,  6,  1, 61, 46, 47, 50, 43,  1, 47, 58,  1,\n",
      "        61, 43, 56, 43,  0, 61, 46, 53, 50, 43, 57, 53, 51, 43,  6,  1, 61, 43,\n",
      "         1, 51, 47, 45, 46, 58,  1, 45, 59, 43, 57, 57,  1, 58, 46, 43, 63,  1,\n",
      "        56, 43, 50, 47, 43, 60, 43, 42,  1, 59, 57,  1, 46, 59, 51, 39, 52, 43,\n",
      "        50, 63, 11,  0, 40, 59, 58,  1, 58, 46, 43, 63,  1, 58, 46, 47, 52, 49,\n",
      "         1, 61, 43,  1, 39, 56, 43,  1, 58, 53, 53,  1, 42, 43, 39, 56, 10,  1,\n",
      "        58, 46, 43,  1, 50, 43, 39, 52, 52, 43, 57, 57,  1, 58, 46, 39, 58,  0,\n",
      "        39, 44, 44, 50, 47, 41, 58, 57,  1, 59, 57,  6,  1, 58, 46, 43,  1, 53,\n",
      "        40, 48, 43, 41, 58,  1, 53, 44,  1, 53, 59, 56,  1, 51, 47, 57, 43, 56,\n",
      "        63,  6,  1, 47, 57,  1, 39, 57,  1, 39, 52,  0, 47, 52, 60, 43, 52, 58,\n",
      "        53, 56, 63,  1, 58, 53,  1, 54, 39, 56, 58, 47, 41, 59, 50, 39, 56, 47,\n",
      "        57, 43,  1, 58, 46, 43, 47, 56,  1, 39, 40, 59, 52, 42, 39, 52, 41, 43,\n",
      "        11,  1, 53, 59, 56,  0, 57, 59, 44, 44, 43, 56, 39, 52, 41, 43,  1, 47,\n",
      "        57,  1, 39,  1, 45, 39, 47, 52,  1, 58, 53,  1, 58, 46, 43, 51,  1, 24,\n",
      "        43, 58,  1, 59, 57,  1, 56, 43, 60, 43, 52, 45, 43,  1, 58, 46, 47, 57,\n",
      "         1, 61, 47, 58, 46,  0, 53, 59, 56,  1, 54, 47, 49, 43, 57,  6,  1, 43,\n",
      "        56, 43,  1, 61, 43,  1, 40, 43, 41, 53, 51, 43,  1, 56, 39, 49, 43, 57,\n",
      "        10,  1, 44, 53, 56,  1, 58, 46, 43,  1, 45, 53, 42, 57,  1, 49, 52, 53,\n",
      "        61,  1, 21,  0, 57, 54, 43, 39, 49,  1, 58, 46, 47, 57,  1, 47, 52,  1,\n",
      "        46, 59, 52, 45, 43, 56,  1, 44, 53, 56,  1, 40, 56, 43, 39, 42,  6,  1,\n",
      "        52, 53, 58,  1, 47, 52,  1, 58, 46, 47, 56, 57, 58,  1, 44, 53, 56,  1,\n",
      "        56, 43, 60, 43, 52, 45, 43,  8,  0,  0])\n"
     ]
    }
   ],
   "source": [
    "import torch\n",
    "data = torch.tensor(encode(response.text), dtype=torch.long)\n",
    "print(data.shape, data.dtype)\n",
    "print(data[:1000])  # Print first 1000 characters as integers"
   ]
  },
  {
   "cell_type": "code",
   "execution_count": 15,
   "id": "0344f01b",
   "metadata": {},
   "outputs": [],
   "source": [
    "n = int(0.9 * len(data))  # 90% for training\n",
    "train_data = data[:n]\n",
    "val_data = data[n:]"
   ]
  },
  {
   "cell_type": "code",
   "execution_count": null,
   "id": "7ed0e86f",
   "metadata": {},
   "outputs": [
    {
     "data": {
      "text/plain": [
       "tensor([18, 47, 56, 57, 58,  1, 15, 47, 58])"
      ]
     },
     "execution_count": 16,
     "metadata": {},
     "output_type": "execute_result"
    }
   ],
   "source": [
    "context_size = 8  # Number of characters used to predict at a time\n",
    "train_data[:context_size+1]"
   ]
  },
  {
   "cell_type": "code",
   "execution_count": 18,
   "id": "b6c52122",
   "metadata": {},
   "outputs": [
    {
     "name": "stdout",
     "output_type": "stream",
     "text": [
      "Context: tensor([18]), Target: 47\n",
      "Context: tensor([18, 47]), Target: 56\n",
      "Context: tensor([18, 47, 56]), Target: 57\n",
      "Context: tensor([18, 47, 56, 57]), Target: 58\n",
      "Context: tensor([18, 47, 56, 57, 58]), Target: 1\n",
      "Context: tensor([18, 47, 56, 57, 58,  1]), Target: 15\n",
      "Context: tensor([18, 47, 56, 57, 58,  1, 15]), Target: 47\n",
      "Context: tensor([18, 47, 56, 57, 58,  1, 15, 47]), Target: 58\n"
     ]
    }
   ],
   "source": [
    "# Explaination of context_size:\n",
    "# context_size determines how many characters the model will look at to predict the next character.\n",
    "\n",
    "x = train_data[:context_size]  # Input sequence\n",
    "y = train_data[1:context_size+1]  # Target sequence (next character)\n",
    "for i in range(context_size):\n",
    "    context = x[:i+1]  # Up to the i-th character\n",
    "    target = y[i]  # The next character to predict\n",
    "    print(f\"Context: {context}, Target: {target}\")"
   ]
  },
  {
   "cell_type": "code",
   "execution_count": 21,
   "id": "80c50dea",
   "metadata": {},
   "outputs": [
    {
     "name": "stdout",
     "output_type": "stream",
     "text": [
      "inputs: \n",
      "torch.Size([4, 8])\n",
      "tensor([[24, 43, 58,  5, 57,  1, 46, 43],\n",
      "        [44, 53, 56,  1, 58, 46, 39, 58],\n",
      "        [52, 58,  1, 58, 46, 39, 58,  1],\n",
      "        [25, 17, 27, 10,  0, 21,  1, 54]])\n",
      "targets: \n",
      "torch.Size([4, 8])\n",
      "tensor([[43, 58,  5, 57,  1, 46, 43, 39],\n",
      "        [53, 56,  1, 58, 46, 39, 58,  1],\n",
      "        [58,  1, 58, 46, 39, 58,  1, 46],\n",
      "        [17, 27, 10,  0, 21,  1, 54, 39]])\n",
      "\n",
      "Batch 0, Context: [24], Target: 43\n",
      "Batch 0, Context: [24, 43], Target: 58\n",
      "Batch 0, Context: [24, 43, 58], Target: 5\n",
      "Batch 0, Context: [24, 43, 58, 5], Target: 57\n",
      "Batch 0, Context: [24, 43, 58, 5, 57], Target: 1\n",
      "Batch 0, Context: [24, 43, 58, 5, 57, 1], Target: 46\n",
      "Batch 0, Context: [24, 43, 58, 5, 57, 1, 46], Target: 43\n",
      "Batch 0, Context: [24, 43, 58, 5, 57, 1, 46, 43], Target: 39\n",
      "Batch 1, Context: [44], Target: 53\n",
      "Batch 1, Context: [44, 53], Target: 56\n",
      "Batch 1, Context: [44, 53, 56], Target: 1\n",
      "Batch 1, Context: [44, 53, 56, 1], Target: 58\n",
      "Batch 1, Context: [44, 53, 56, 1, 58], Target: 46\n",
      "Batch 1, Context: [44, 53, 56, 1, 58, 46], Target: 39\n",
      "Batch 1, Context: [44, 53, 56, 1, 58, 46, 39], Target: 58\n",
      "Batch 1, Context: [44, 53, 56, 1, 58, 46, 39, 58], Target: 1\n",
      "Batch 2, Context: [52], Target: 58\n",
      "Batch 2, Context: [52, 58], Target: 1\n",
      "Batch 2, Context: [52, 58, 1], Target: 58\n",
      "Batch 2, Context: [52, 58, 1, 58], Target: 46\n",
      "Batch 2, Context: [52, 58, 1, 58, 46], Target: 39\n",
      "Batch 2, Context: [52, 58, 1, 58, 46, 39], Target: 58\n",
      "Batch 2, Context: [52, 58, 1, 58, 46, 39, 58], Target: 1\n",
      "Batch 2, Context: [52, 58, 1, 58, 46, 39, 58, 1], Target: 46\n",
      "Batch 3, Context: [25], Target: 17\n",
      "Batch 3, Context: [25, 17], Target: 27\n",
      "Batch 3, Context: [25, 17, 27], Target: 10\n",
      "Batch 3, Context: [25, 17, 27, 10], Target: 0\n",
      "Batch 3, Context: [25, 17, 27, 10, 0], Target: 21\n",
      "Batch 3, Context: [25, 17, 27, 10, 0, 21], Target: 1\n",
      "Batch 3, Context: [25, 17, 27, 10, 0, 21, 1], Target: 54\n",
      "Batch 3, Context: [25, 17, 27, 10, 0, 21, 1, 54], Target: 39\n"
     ]
    }
   ],
   "source": [
    "torch.manual_seed(1337) \n",
    "batch_size = 4  # Number of sequences in a batch\n",
    "context_size = 8  # Number of characters in each sequence\n",
    "\n",
    "def get_batch(split):\n",
    "    data = train_data if split == 'train' else val_data\n",
    "    n = len(data) - context_size\n",
    "    ix = torch.randint(n, (batch_size,))\n",
    "    x = torch.stack([data[i:i+context_size] for i in ix])\n",
    "    y = torch.stack([data[i+1:i+context_size+1] for i in ix])\n",
    "    return x, y\n",
    "\n",
    "xb, yb = get_batch('train')\n",
    "print('inputs: ')\n",
    "print(xb.shape)\n",
    "print(xb)\n",
    "print('targets: ')\n",
    "print(yb.shape)\n",
    "print(yb)\n",
    "\n",
    "print(\"\")\n",
    "\n",
    "for b in range(batch_size):\n",
    "    for t in range(context_size):\n",
    "        context = xb[b, :t+1]  # Up to the t-th character\n",
    "        target = yb[b, t]  # The next character to predict\n",
    "        print(f\"Batch {b}, Context: {context.tolist()}, Target: {target}\")"
   ]
  }
 ],
 "metadata": {
  "kernelspec": {
   "display_name": "Python 3",
   "language": "python",
   "name": "python3"
  },
  "language_info": {
   "codemirror_mode": {
    "name": "ipython",
    "version": 3
   },
   "file_extension": ".py",
   "mimetype": "text/x-python",
   "name": "python",
   "nbconvert_exporter": "python",
   "pygments_lexer": "ipython3",
   "version": "3.11.9"
  }
 },
 "nbformat": 4,
 "nbformat_minor": 5
}
